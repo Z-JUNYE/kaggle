{
 "cells": [
  {
   "cell_type": "markdown",
   "id": "78b56510",
   "metadata": {},
   "source": [
    "#### 监督学习基础模型\n",
    "监督学习分为分类学习和回归预测两类。\n",
    "基本构架和流程：\n",
    "* 准备训练数据\n",
    "* 抽取所需要的特征，形成特征向量Feature Vectors\n",
    "* 送入学习算法Machine learning algorithm，训练出一个预测模型Predictive model"
   ]
  },
  {
   "cell_type": "markdown",
   "id": "3ffc8641",
   "metadata": {},
   "source": [
    "##### 分类学习\n",
    "二分类Binary Classification，多类分类Muliticlass Classification， 标签分类Multi-label Classification"
   ]
  },
  {
   "cell_type": "markdown",
   "id": "80bd4a66",
   "metadata": {},
   "source": [
    "##### 线性分类器\n",
    "模型介绍：线性分类器 Liner Classifiers，假设特征与分类结果存在线性关系的模型。 \n",
    "这个模型通过累加计算每个维度的特征与各自权重的成绩来帮助类别决策。  "
   ]
  },
  {
   "cell_type": "code",
   "execution_count": 3,
   "id": "ad556423",
   "metadata": {},
   "outputs": [
    {
     "name": "stdout",
     "output_type": "stream",
     "text": [
      "Path to dataset files: C:\\Users\\ZJY\\.cache\\kagglehub\\datasets\\uciml\\breast-cancer-wisconsin-data\\versions\\2\n",
      "Saved new CSV as breast_cancer_data.csv in current folder.\n"
     ]
    }
   ],
   "source": [
    "import kagglehub\n",
    "import pandas as pd\n",
    "import os\n",
    "\n",
    "# 下载数据集\n",
    "path = kagglehub.dataset_download('uciml/breast-cancer-wisconsin-data')\n",
    "\n",
    "print('Path to dataset files:', path)\n",
    "\n",
    "# 找到原始 CSV 文件路径\n",
    "original_file = os.path.join(path, 'data.csv')  # 这个文件名可能需要根据实际内容修改\n",
    "\n",
    "# 读取 CSV 数据\n",
    "df = pd.read_csv(original_file)\n",
    "\n",
    "# 保存为当前文件夹的另一个 CSV 文件名\n",
    "df.to_csv('breast_cancer_data.csv', index=False)\n",
    "\n",
    "print('Saved new CSV as breast_cancer_data.csv in current folder.')"
   ]
  }
 ],
 "metadata": {
  "kernelspec": {
   "display_name": "base",
   "language": "python",
   "name": "python3"
  },
  "language_info": {
   "codemirror_mode": {
    "name": "ipython",
    "version": 3
   },
   "file_extension": ".py",
   "mimetype": "text/x-python",
   "name": "python",
   "nbconvert_exporter": "python",
   "pygments_lexer": "ipython3",
   "version": "3.12.7"
  }
 },
 "nbformat": 4,
 "nbformat_minor": 5
}
