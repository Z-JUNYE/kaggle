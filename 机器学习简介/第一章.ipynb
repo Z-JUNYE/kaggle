{
 "cells": [
  {
   "cell_type": "markdown",
   "id": "b460e6d7",
   "metadata": {},
   "source": [
    "#### 机器学习综述\n",
    "隶属于人工智能Artificial Intelligence研究和应用的一个分支。  \n",
    "* 图灵测试：如果通过问答这种方式，我们已经无法区分对话那端到底是机器还是人类，那么就可以说这样的机器已经具备人工智能。 \n",
    "* 机器学习：如果一个程序在使用既有的经验E执行某类任务T的过程中被认定为是具备学习能力的，那么它一定需要展现出，利用现有的经验E，不断改善其完成既定任务T的鑫能P的特质。\n",
    "* A program can be said to learn from experience E with respect to some class of taks T and perforamce measure P, if its performance as tasks in T, as measured by P, improves with experience E.\n",
    "* 机器学习的三个关键术语： Task，Experience，Performance"
   ]
  },
  {
   "cell_type": "markdown",
   "id": "c279b4a1",
   "metadata": {},
   "source": [
    "##### 任务\n",
    "机器学习的任务种类有很多，这里侧重对两类经典的任务进行讲解与实践：监督学习supervised learning和无监督学习Unsupervised learning。\n",
    "* 监督学习关注对事物未知表现得预测，一般包括分类问题classification和回归问题regression。\n",
    "* 无监督学习则倾向于对事物本身特性得分析，常用得技术包括数据降维Demensionality Reduction和聚类问题Clustering。"
   ]
  },
  {
   "cell_type": "markdown",
   "id": "ffff8f81",
   "metadata": {},
   "source": [
    "##### 经验\n",
    "对学习任务有用得特定信息，成为特征Feature。  \n",
    "对于监督学习问题，所拥有得经验包括特征和标记/目标（Label/Target）两个部分。 \n",
    "一般用一个特征向量Feature Vector来描述一个数据样本。  \n",
    "\n",
    "无监督学习自然没有标记和目标，更加适合对数据结构得分析。正是这个区别，常常可以获得大量的无监督数据。 "
   ]
  },
  {
   "cell_type": "markdown",
   "id": "99f64cf0",
   "metadata": {},
   "source": [
    "##### 性能\n",
    "性能便是评价所完成任务质量的指标。  \n",
    "为了评价学习模型完成任务的质量，需要具备相同特征的数据，并将模型的预测结果同相对应的正确答案进行比对。 \n",
    "根据预测正确类别的百分比来评价其性能，这个指标通常被称作准确性Accuracy。"
   ]
  }
 ],
 "metadata": {
  "language_info": {
   "name": "python"
  }
 },
 "nbformat": 4,
 "nbformat_minor": 5
}
